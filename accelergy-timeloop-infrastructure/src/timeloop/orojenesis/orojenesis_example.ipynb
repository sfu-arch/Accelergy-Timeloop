{
 "cells": [
  {
   "cell_type": "markdown",
   "id": "c97e39ea",
   "metadata": {},
   "source": [
    "# Orojenesis Artifact - Customization\n",
    "The ipython notebook file contains Orojenesis examples to customize bounds for various Einsums.\n",
    "the ISCA'24 *\"Mind the Gap: Attainable Data Movement and Operational Intensity Bounds for Tensor Algorithms\"* paper. Please run install.sh to install software dependencies.\n",
    "\n",
    "## 0.  Setup Software Dependencies \n",
    " Please first run install.sh to install software dependencies."
   ]
  },
  {
   "cell_type": "code",
   "execution_count": null,
   "id": "078462e1",
   "metadata": {},
   "outputs": [],
   "source": [
    "import os\n",
    "if \"TIMELOOP_BASE_PATH\" not in os.environ:\n",
    "    timeloop_path = input(\"Please specify the path to Timeloop repo (default: \" +  os.getcwd() + \"/../):\" ) or os.getcwd() + \"/../\"\n",
    "    os.environ[\"TIMELOOP_BASE_PATH\"] = timeloop_path\n",
    "    os.environ[\"TIMELOOP_DIR\"] = timeloop_path\n",
    "os.environ[\"TIMELOOP_ENABLE_FIRST_READ_ELISION\"] = \"1\"\n",
    "print(\"Path to timeloop repo: \", os.environ[\"TIMELOOP_BASE_PATH\"])\n",
    "import pathlib\n",
    "import src.utils as utils"
   ]
  },
  {
   "cell_type": "markdown",
   "id": "eff630de",
   "metadata": {},
   "source": [
    "## 1. Customization Example \n",
    "This section demonstrates how to customize workload definitions and mapper constraints for Orojenesis bound generation.\n",
    "\n",
    "- **Workload Definition**: The workload definition describes the tensor workload being analyzed.\n",
    "    - <ins>Predefined Workload Classes</ins>: \n",
    "    We provide a base class named *Op* in `src/utils.py` that serves as an abstraction for different workload types. Currently, it supports convolution (*Conv*) and grouped batched matrix multiplication (*GBMM*). \n",
    "    - <ins>Defining New Einsum Shapes</ins>:\n",
    "    If you need to handle a new Einsum shape beyond *Conv* and *GBMM*, you can easily extend the functionality by following the template provided in the Op class.\n",
    "    - <ins>Problem Definition Output</ins>:\n",
    "    The `to_yaml` function is responsible for converting the workload definition into a YAML format that adheres to the [Timeloop problem format](https://timeloop.csail.mit.edu/v4/input-formats/problem).\n",
    "    \n",
    "- **[Optional] Mapper**: The mapper specifies the search strategy and mapping constraints. \n",
    "    - <ins>Generic Mapper</ins>: We provide a generic mapper in `configs/single-einsum/mapper.yaml` that can work for most Einsum shapes. \n",
    "    - <ins>Workload-Specific Constraints</ins>: If you have knowledge of suboptimal or irrelevant search space options specific to your workload, you can define additional constraints in the mapper_constraints section of the mapper file. An example of this is provided in `configs/single-einsum/conv_mapper.yaml`.For *Conv* workloads. For more details on Timeloop mapper constraints,, please refer to [Timeloop mapper constraints](https://timeloop.csail.mit.edu/v4/input-formats/design/constraints).\n",
    "    \n",
    "The Speeder architecture is defined in `./outputs/single-einsum/arch.yaml`. In most cases, you won't need to modify this file.\n",
    "    \n",
    "## Example: Deriving Bounds for 1x1 Convolution\n",
    "\n",
    "Let's assume we want to derive Orojenesis bounds for a 1x1 convolution with input channel size 32 and output channel size 16. Here's how to define the problem using the *Conv* class:"
   ]
  },
  {
   "cell_type": "code",
   "execution_count": null,
   "id": "91bfc6fc",
   "metadata": {},
   "outputs": [],
   "source": [
    "# Define the workload shape. \n",
    "prob = utils.Conv(R=1, S=1, C=32, K=16)\n",
    "mapper_yaml = pathlib.Path('./configs/single-einsum/conv_mapper.yaml') \n",
    "\n",
    "# Specify output directory\n",
    "output_dir = pathlib.Path('./outputs/single-einsum')\n",
    "\n",
    "arch_yaml = pathlib.Path('./configs/single-einsum/arch.yaml')\n",
    "utils.GenerateBound(prob, output_dir, arch_yaml, mapper_yaml, keep_one_best_entry_across_buf=True)\n",
    "\n",
    "# Output CSV paths  \n",
    "stats_files = utils.get_stats_files(output_dir, [prob]) \n",
    "print(f'Output CSV file: {stats_files[0]}')"
   ]
  },
  {
   "cell_type": "markdown",
   "id": "4d191543",
   "metadata": {},
   "source": [
    "- **Interpreting the CSV output**: \n",
    "    - <ins>Column 0</ins>: the buffer size in ascending order  \n",
    "    - <ins>Column 1</ins>: the corresponding achievable operational intensity (OI) \n",
    "    - <ins>Column 2</ins>: the corresponding achievable DRAM access count \n",
    "    - <ins>Column 3</ins>: the mapping shortform "
   ]
  }
 ],
 "metadata": {
  "kernelspec": {
   "display_name": "Python 3 (ipykernel)",
   "language": "python",
   "name": "python3"
  },
  "language_info": {
   "codemirror_mode": {
    "name": "ipython",
    "version": 3
   },
   "file_extension": ".py",
   "mimetype": "text/x-python",
   "name": "python",
   "nbconvert_exporter": "python",
   "pygments_lexer": "ipython3",
   "version": "3.10.6"
  }
 },
 "nbformat": 4,
 "nbformat_minor": 5
}
