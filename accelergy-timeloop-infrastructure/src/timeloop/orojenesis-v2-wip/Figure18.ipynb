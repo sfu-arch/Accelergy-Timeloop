{
 "cells": [
  {
   "cell_type": "code",
   "execution_count": null,
   "id": "d3f65759-d253-4ba1-8ee4-be02e7243ff4",
   "metadata": {},
   "outputs": [],
   "source": [
    "# Prequel\n",
    "\n",
    "import os\n",
    "import sys\n",
    "import copy\n",
    "\n",
    "WORKING_DIRECTORY = os.getcwd()\n",
    "sys.path.insert(0, os.path.join(os.path.abspath(WORKING_DIRECTORY), \"src\"))\n",
    "\n",
    "import pandas as pd\n",
    "import plots\n",
    "from operations import Operation, OperationList\n",
    "from timeloop import generate_timeloop_results_for_ops\n",
    "from mappings import PotentialMultiLayerMapping, combine_solutions, combine_solutions_access_cache\n",
    "from tensors import Tensor, Rank\n",
    "from operations import Operation, OperationList\n",
    "\n",
    "from util import *\n",
    "import paretos as paretos\n",
    "\n",
    "# Check to see where we are running timeloop-mapper from\n",
    "import shutil\n",
    "shutil.which(\"timeloop-mapper\")"
   ]
  },
  {
   "cell_type": "code",
   "execution_count": null,
   "id": "8da15d9b-1bf7-413a-b03d-0b236e601038",
   "metadata": {
    "editable": true,
    "slideshow": {
     "slide_type": ""
    },
    "tags": []
   },
   "outputs": [],
   "source": [
    "# Reproduce Fig 18 of the Orojenesis paper\n",
    "\n",
    "# Make an intermediate = Tensor('A2'), then use\n",
    "# this for both gemm1/gemm2 (enforce shared tensor and rank names)\n",
    "int_A2 = Tensor(\"A2\", [Rank(\"M\", 32 * 1024), Rank(\"N\", 16 * 1024)])\n",
    "gemm1 = Operation(\n",
    "    \"32k_4k_16k\",\n",
    "    input_tensors=[\n",
    "        Tensor(\"A1\", [Rank(\"M\", 32 * 1024), Rank(\"K\", 4 * 1024)]),\n",
    "        Tensor(\"B1\", [Rank(\"N\", 16 * 1024), Rank(\"K\", 4 * 1024)]),\n",
    "    ],\n",
    "    output_tensors=[int_A2],\n",
    ")\n",
    "gemm2 = Operation(\n",
    "    \"32k_16k_4k\",\n",
    "    input_tensors=[int_A2, Tensor(\"B2\", [Rank(\"N\", 4 * 1024), Rank(\"K\", 16 * 1024)])],\n",
    "    output_tensors=[Tensor(\"D2\", [Rank(\"M\", 32 * 1024), Rank(\"N\", 4 * 1024)])],\n",
    ")\n",
    "\n",
    "operations = OperationList([gemm1, gemm2])\n",
    "\n",
    "# Paper assumes fp16 everywhere\n",
    "[t.set_precision(16) for t in operations.tensors]\n",
    "[t.set_accum_precision(16) for t in operations.tensors]\n",
    "\n",
    "# Detect shared ranks\n",
    "[op.auto_link_shared_ranks() for op in operations]\n",
    "# Label A2 as fusable\n",
    "int_A2.is_fusable = True\n",
    "operations.to_pydot().create_svg().decode()\n",
    "\n",
    "# ====================================================================================================\n",
    "# FUSED VERSUS UNFUSED\n",
    "# ====================================================================================================\n",
    "\n",
    "# Disable flipped tc for now\n",
    "solutions = generate_timeloop_results_for_ops(operations, flipped_tc=[False])\n",
    "\n",
    "# Generate all-operation solutions WITHOUT fusion\n",
    "initial_solutions = [\n",
    "    PotentialMultiLayerMapping(**{op.name: s for op, s in zip(operations, solutions)})\n",
    "]\n",
    "\n",
    "_, solutions, baseline_util, baseline_accesses = combine_solutions(\n",
    "    initial_solutions, operations, enable_fusion=False\n",
    ")\n",
    "solutions_unfused = PotentialMultiLayerMapping.get_final_fused_solutions(\n",
    "    solutions, op_names=[], pareto_only=True\n",
    ")\n",
    "\n",
    "_, solutions, baseline_util, baseline_accesses = combine_solutions(\n",
    "    initial_solutions, operations, enable_fusion=True\n",
    ")\n",
    "solutions_fused = PotentialMultiLayerMapping.get_final_fused_solutions(\n",
    "    solutions, op_names=[], pareto_only=True\n",
    ")"
   ]
  },
  {
   "cell_type": "code",
   "execution_count": null,
   "id": "036aab24-954f-4eea-8e12-88f651111e1b",
   "metadata": {},
   "outputs": [],
   "source": [
    "import oavesplots\n",
    "import importlib\n",
    "import plotly.express as px\n",
    "importlib.reload(oavesplots)\n",
    "df = pd.concat([solutions_fused[0].df.assign(Method='Fused'),solutions_unfused[0].df.assign(Method='Unfused')], axis=0)\n",
    "# Replicate the reporting from the paper\n",
    "df['Util (B)'] = df['Total Utilization']/8\n",
    "df['Access (2B)'] = df['Total Accesses']/16\n",
    "#mapping_col = [x for x in df.columns if 'Mapping' in x]\n",
    "# Force the ordering\n",
    "mapping_col = [f\"{x.name} Mapping\" for x in operations]\n",
    "fig = px.scatter(df, x='Util (B)', y='Access (2B)', log_x=True, log_y=True, color='Method', hover_data=mapping_col)\n",
    "\n",
    "oavesplots.interactive_plot(fig)"
   ]
  },
  {
   "cell_type": "code",
   "execution_count": null,
   "id": "a8c7f442-effb-4ae4-bf36-f99e1f10fae3",
   "metadata": {},
   "outputs": [],
   "source": []
  },
  {
   "cell_type": "code",
   "execution_count": null,
   "id": "0cd2d4c9-855d-475b-a24d-162d0ba8cc99",
   "metadata": {},
   "outputs": [],
   "source": []
  }
 ],
 "metadata": {
  "kernelspec": {
   "display_name": "Python 3 (ipykernel)",
   "language": "python",
   "name": "python3"
  },
  "language_info": {
   "codemirror_mode": {
    "name": "ipython",
    "version": 3
   },
   "file_extension": ".py",
   "mimetype": "text/x-python",
   "name": "python",
   "nbconvert_exporter": "python",
   "pygments_lexer": "ipython3",
   "version": "3.9.1"
  }
 },
 "nbformat": 4,
 "nbformat_minor": 5
}
